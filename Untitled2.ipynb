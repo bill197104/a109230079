{
 "cells": [
  {
   "cell_type": "code",
   "execution_count": null,
   "metadata": {},
   "outputs": [],
   "source": [
    "height=eval(input('enter height: '))\n",
    "weight=eval(input('enter weight: '))\n",
    "perimeter=(height+weight)/2\n",
    "area=height*weight\n",
    "print('height=%.2f'%(height))\n",
    "print('weight=%.2f'%(weight))\n",
    "print('perimeter=%.2f'%(perimeter))\n",
    "print('area=%.2f'%(area))"
   ]
  },
  {
   "cell_type": "code",
   "execution_count": null,
   "metadata": {},
   "outputs": [],
   "source": [
    "import math\n",
    "s=eval(input('s: '))\n",
    "height=((math.sqrt(3)/2)*s)\n",
    "print('height=%.2f'%(height))\n",
    "area=((math.sqrt(3)/4)*s*s)\n",
    "print('area=%.2f'%(area))"
   ]
  },
  {
   "cell_type": "code",
   "execution_count": null,
   "metadata": {},
   "outputs": [],
   "source": [
    "x=eval(input('x(min)='))\n",
    "y=eval(input('y(sec)='))\n",
    "z=eval(input('z(km)='))\n",
    "speed=(z/((x*60+y)/3600))/1.6\n",
    "print('speed=%.2f'%(speed))"
   ]
  },
  {
   "cell_type": "code",
   "execution_count": 1,
   "metadata": {},
   "outputs": [
    {
     "name": "stdout",
     "output_type": "stream",
     "text": [
      "miles=1\n",
      "KM=1.60\n"
     ]
    }
   ],
   "source": [
    "miles=eval(input('miles='))\n",
    "KM=miles*1.6\n",
    "print('KM=%.2f'%(KM))\n",
    "\n"
   ]
  },
  {
   "cell_type": "code",
   "execution_count": 2,
   "metadata": {},
   "outputs": [
    {
     "name": "stdout",
     "output_type": "stream",
     "text": [
      "f=100\n",
      "c=37.78\n"
     ]
    }
   ],
   "source": [
    "f=eval(input('f='))\n",
    "c=(f-32)*5/9\n",
    "print('c=%.2f'%(c))"
   ]
  },
  {
   "cell_type": "code",
   "execution_count": 5,
   "metadata": {},
   "outputs": [
    {
     "name": "stdout",
     "output_type": "stream",
     "text": [
      "a=1\n",
      "b=2\n",
      "c=3\n",
      "6\n",
      "2.0\n"
     ]
    }
   ],
   "source": [
    "a=eval(input('a='))\n",
    "b=eval(input('b='))\n",
    "c=eval(input('c='))\n",
    "print(a+b+c)\n",
    "print((a+b+c)/3)"
   ]
  },
  {
   "cell_type": "code",
   "execution_count": null,
   "metadata": {},
   "outputs": [],
   "source": []
  }
 ],
 "metadata": {
  "kernelspec": {
   "display_name": "Python 3",
   "language": "python",
   "name": "python3"
  },
  "language_info": {
   "codemirror_mode": {
    "name": "ipython",
    "version": 3
   },
   "file_extension": ".py",
   "mimetype": "text/x-python",
   "name": "python",
   "nbconvert_exporter": "python",
   "pygments_lexer": "ipython3",
   "version": "3.7.3"
  }
 },
 "nbformat": 4,
 "nbformat_minor": 2
}
